{
 "cells": [
  {
   "cell_type": "code",
   "execution_count": 1,
   "metadata": {},
   "outputs": [],
   "source": [
    "import os\n",
    "import sys\n",
    "import json\n",
    "import logging\n",
    "from dotenv import load_dotenv\n",
    "import openai\n",
    "\n",
    "# Load environment variables from .env\n",
    "load_dotenv()\n",
    "\n",
    "# Set up logging for chain-of-thought outputs\n",
    "logging.basicConfig(\n",
    "    filename='../logs/reasoning.log',  # Adjust path if running from notebook root\n",
    "    level=logging.INFO,\n",
    "    format='%(asctime)s - %(levelname)s - %(message)s'\n",
    ")"
   ]
  },
  {
   "cell_type": "code",
   "execution_count": 2,
   "metadata": {},
   "outputs": [],
   "source": [
    "project_root = os.path.abspath(os.path.join(os.getcwd(), \"..\"))\n",
    "if project_root not in sys.path:\n",
    "    sys.path.insert(0, project_root)\n",
    "\n",
    "from src.model_interface import query_openai, compare_models"
   ]
  },
  {
   "cell_type": "code",
   "execution_count": 3,
   "metadata": {},
   "outputs": [
    {
     "name": "stdout",
     "output_type": "stream",
     "text": [
      "Available models: {'openai': {'models': ['gpt-4o', 'gpt-3.5-turbo']}, 'gemini': {'models': []}, 'llama': {'models': []}, 'claude': {'models': []}, 'deepseek': {'models': []}}\n"
     ]
    }
   ],
   "source": [
    "config_path = '../config/models_config.yaml'\n",
    "try:\n",
    "    import yaml\n",
    "    with open(config_path, 'r') as file:\n",
    "        model_catalog = yaml.safe_load(file)\n",
    "except Exception as e:\n",
    "    # Fallback: define a default catalog if config file is not available\n",
    "    model_catalog = {\n",
    "        \"openai\": [\"gpt-4o\", \"gpt-3.5-turbo\"],\n",
    "        \"gemini\": [],\n",
    "        \"llama\": [],\n",
    "        \"claude\": [],\n",
    "        \"deepseek\": []\n",
    "    }\n",
    "print(\"Available models:\", model_catalog)"
   ]
  },
  {
   "cell_type": "code",
   "execution_count": 4,
   "metadata": {},
   "outputs": [],
   "source": [
    "model1 = \"gpt-4o\"\n",
    "model2 = \"gpt-3.5-turbo\"\n",
    "evaluation_model = \"gpt-4o\"\n",
    "\n",
    "prompt = \"Explain why Paris is called the city of lights.\""
   ]
  },
  {
   "cell_type": "code",
   "execution_count": 6,
   "metadata": {},
   "outputs": [],
   "source": [
    "out1, out2, eval_out = compare_models(prompt, model1, model2, evaluation_model)"
   ]
  },
  {
   "cell_type": "code",
   "execution_count": 7,
   "metadata": {},
   "outputs": [
    {
     "name": "stdout",
     "output_type": "stream",
     "text": [
      "Response from gpt-4o :\n",
      " Paris is often referred to as the \"City of Lights\" for two main reasons, both of which highlight the city's historical and cultural significance.\n",
      "\n",
      "1. **Enlightenment Hub:** Paris earned the moniker \"La Ville-Lumière\" (City of Light) during the Age of Enlightenment, in the 18th century. The city was a prominent center of education, ideas, and intellectual development. The \"lights\" in this context refer to the intellectual and philosophical advancements that emerged from Paris during this period. Many prominent thinkers, writers, and artists gathered in the city, spreading new ideas that emphasized reason, science, and the pursuit of knowledge.\n",
      "\n",
      "2. **Pioneering Street Lighting:** Paris was one of the first cities in Europe to have street lighting. In 1667, King Louis XIV's lieutenant general of police, Nicolas de La Reynie, initiated a project to light the streets of Paris to increase safety and security. Initially, lanterns were placed along dark, narrow streets. By the 19th century, with the advent of gas lanterns and later electric lighting, Paris became one of the first cities to adopt these new technologies extensively. This widespread illumination made it a literal \"city of light,\" influencing its reputation as a safe and vibrant urban center.\n",
      "\n",
      "Both aspects contribute to the dual symbolism of Paris as a beacon of enlightenment and as a well-lit, modern metropolis.\n",
      "\n",
      "Response from gpt-3.5-turbo :\n",
      " Paris is often referred to as the \"city of lights\" because of its historical significance as a center of education and ideas during the Age of Enlightenment in the 18th century. This period was marked by a flourishing of arts, sciences, and philosophy, which brought new ideas and knowledge to the city. \n",
      "\n",
      "In addition to its intellectual reputation, Paris is also known for its beautiful architecture and landmarks, many of which are illuminated at night, creating a vibrant and dazzling cityscape. The Eiffel Tower, Notre Dame Cathedral, and the Champs-Élysées are just a few of the iconic sites that light up the city after dark. This visual spectacle has earned Paris its nickname as the \"city of lights.\"\n",
      "\n",
      "Evaluation by gpt-4o :\n",
      " In evaluating the two responses to the prompt, \"Explain why Paris is called the city of lights,\" it becomes clear that both responses address similar key points but differ in detail and depth.\n",
      "\n",
      "### Response from gpt-4o:\n",
      "\n",
      "1. **Depth and Detail:** \n",
      "   - The response from gpt-4o provides a well-rounded explanation by addressing two key reasons why Paris is known as the \"City of Lights\": its role in the Age of Enlightenment and its pioneering of street lighting. \n",
      "   - The response is rich in historical detail, mentioning key figures like Nicolas de La Reynie and technological advancements such as the transition from gas lanterns to electric lighting.\n",
      "\n",
      "2. **Clarity and Structure:**\n",
      "   - The response is structured logically, with clear headings distinguishing the two main reasons, making it easy to follow and understand.\n",
      "   - Each point is elaborated with historical context, providing a comprehensive explanation.\n",
      "\n",
      "3. **Symbolism:**\n",
      "   - The dual symbolism of Paris as both an intellectual hub and a physically illuminated city is highlighted effectively, showcasing a deeper understanding of the city's nickname.\n",
      "\n",
      "### Response from gpt-3.5-turbo:\n",
      "\n",
      "1. **Generalization:**\n",
      "   - This response is more generalized and less detailed. It touches on the Age of Enlightenment but doesn't expand on the specific historical developments associated with Paris during this time.\n",
      "   - The mention of Paris's landmarks being illuminated at night is relevant but seems to conflate the artistic and cultural allure of modern-day Paris with the historical reasons behind the \"City of Lights\" moniker.\n",
      "\n",
      "2. **Lack of Historical Detail:**\n",
      "   - The response lacks details about Paris's early adoption of street lighting and its significance, missing a crucial detail that helps explain the origin of the nickname.\n",
      "\n",
      "3. **Focus on Modern Attractions:**\n",
      "   - While the romantic aspect of modern Paris being well-lit is interesting, it doesn't align as closely with the historical reasons for the nickname as the gpt-4o response does.\n",
      "\n",
      "### Conclusion:\n",
      "\n",
      "The response from gpt-4o is the better response because it provides a more comprehensive and detailed explanation of why Paris is called the \"City of Lights.\" It covers historical, intellectual, and technological aspects with clarity and depth, and it delineates both the symbolic and literal reasons behind the nickname. The structured nature of the explanation makes it more informative and engaging compared to the more generalized and less historically detailed response from gpt-3.5-turbo.\n"
     ]
    }
   ],
   "source": [
    "print(\"Response from\", model1, \":\\n\", out1)\n",
    "print(\"\\nResponse from\", model2, \":\\n\", out2)\n",
    "print(\"\\nEvaluation by\", evaluation_model, \":\\n\", eval_out)"
   ]
  }
 ],
 "metadata": {
  "kernelspec": {
   "display_name": "compare-gen-ai-outputs-oJZNtxB8-py3.10",
   "language": "python",
   "name": "python3"
  },
  "language_info": {
   "codemirror_mode": {
    "name": "ipython",
    "version": 3
   },
   "file_extension": ".py",
   "mimetype": "text/x-python",
   "name": "python",
   "nbconvert_exporter": "python",
   "pygments_lexer": "ipython3",
   "version": "3.10.12"
  }
 },
 "nbformat": 4,
 "nbformat_minor": 2
}
