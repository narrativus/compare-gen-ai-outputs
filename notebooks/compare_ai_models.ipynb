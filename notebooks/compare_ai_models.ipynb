{
 "cells": [
  {
   "cell_type": "code",
   "execution_count": 3,
   "metadata": {},
   "outputs": [],
   "source": [
    "# compare_ai_models.ipynb\n",
    "\n",
    "%load_ext autoreload\n",
    "%autoreload 2"
   ]
  },
  {
   "cell_type": "code",
   "execution_count": 4,
   "metadata": {},
   "outputs": [],
   "source": [
    "import os\n",
    "import sys\n",
    "import json\n",
    "import logging\n",
    "import yaml\n",
    "from dotenv import load_dotenv\n",
    "import openai\n",
    "\n",
    "# Load environment variables from .env\n",
    "load_dotenv()\n",
    "\n",
    "# Set up logging for chain-of-thought outputs\n",
    "logging.basicConfig(\n",
    "    filename='../logs/reasoning.log',  # Adjust path if running from notebook root\n",
    "    level=logging.INFO,\n",
    "    format='%(asctime)s - %(levelname)s - %(message)s'\n",
    ")"
   ]
  },
  {
   "cell_type": "code",
   "execution_count": 5,
   "metadata": {},
   "outputs": [],
   "source": [
    "project_root = os.path.abspath(os.path.join(os.getcwd(), \"..\"))\n",
    "if project_root not in sys.path:\n",
    "    sys.path.insert(0, project_root)\n",
    "\n",
    "from src.model_interface import query_model, compare_models"
   ]
  },
  {
   "cell_type": "code",
   "execution_count": 6,
   "metadata": {},
   "outputs": [
    {
     "name": "stdout",
     "output_type": "stream",
     "text": [
      "Available models: {'openai': {'models': ['gpt-4o', 'gpt-3.5-turbo']}, 'meta': {'models': ['meta-llama/Meta-Llama-3-8B-Instruct', 'meta-llama/Llama-2-7b-chat-hf']}, 'gemini': {'models': []}, 'mistral': {'models': []}, 'claude': {'models': []}, 'deepseek': {'models': []}}\n"
     ]
    }
   ],
   "source": [
    "config_path = '../config/models_config.yaml'\n",
    "try:\n",
    "    with open(config_path, 'r') as file:\n",
    "        model_catalog = yaml.safe_load(file)\n",
    "except Exception as e:\n",
    "    model_catalog = {\n",
    "        \"openai\": [\"gpt-4o\", \"gpt-3.5-turbo\"],\n",
    "        \"meta\": [\"meta-llama/Meta-Llama-3-8B-Instruct\", \"meta-llama/Llama-2-7b-chat-hf\"],\n",
    "        \"gemini\": [],\n",
    "        \"mistral\": [],\n",
    "        \"claude\": [],\n",
    "        \"deepseek\": []\n",
    "    }\n",
    "print(\"Available models:\", model_catalog)\n"
   ]
  },
  {
   "cell_type": "code",
   "execution_count": 7,
   "metadata": {},
   "outputs": [],
   "source": [
    "prompt = \"Explain why Paris is called the city of lights.\"\n",
    "\n",
    "model_1=\"gpt-4o\"\n",
    "provider_1=\"openai\"\n",
    "model_2=\"meta-llama/Llama-2-7b-chat-hf\"\n",
    "provider_2=\"meta\"\n",
    "evaluation_provider_=\"openai\"\n",
    "evaluation_model_=\"gpt-4o\""
   ]
  },
  {
   "cell_type": "code",
   "execution_count": 8,
   "metadata": {},
   "outputs": [],
   "source": [
    "out1, out2, evaluation = compare_models(\n",
    "    prompt,\n",
    "    model1=model_1, provider1=provider_1,\n",
    "    model2=model_2, provider2=provider_2,\n",
    "    evaluation_provider=evaluation_provider_, evaluation_model=evaluation_model_\n",
    ")"
   ]
  },
  {
   "cell_type": "code",
   "execution_count": 9,
   "metadata": {},
   "outputs": [
    {
     "name": "stdout",
     "output_type": "stream",
     "text": [
      "Response from gpt-4o :\n",
      " Paris is often called the \"City of Lights\" (La Ville Lumière in French) for a couple of key reasons related to both its historical role and its literal illumination.\n",
      "\n",
      "1. **Intellectual Center of the Enlightenment**: During the Age of Enlightenment in the 18th century, Paris was a hub for intellectual and philosophical development. The city was home to many thinkers, writers, scientists, and artists who contributed to the Enlightenment movement, which emphasized reason, science, and new ideas. The term \"City of Lights\" symbolically represents Paris as a center of education, ideas, and intellectual advancement.\n",
      "\n",
      "2. **Pioneering Public Lighting**: Paris was one of the first European cities to adopt street lighting on a large scale. In the 17th century, under the reign of King Louis XIV, the city began installing street lights to improve safety and orderliness at night. In 1667, Paris authorities initiated the process by installing lanterns on streets and public spaces. Later, in the 19th century, Paris was among the first cities to use gas street lighting, further enhancing its reputation as a well-lit, safe, and progressive city.\n",
      "\n",
      "These factors contribute to why Paris is celebrated as the \"City of Lights,\" a title that underscores its significance in cultural, intellectual, and technological advancements.\n",
      "\n",
      "Response from meta-llama/Llama-2-7b-chat-hf :\n",
      " Error: 400 Client Error: Bad Request for url: https://api-inference.huggingface.co/models/meta-llama/Llama-2-7b-chat-hf\n",
      "\n",
      "Evaluation by gpt-4o :\n",
      " In evaluating the two responses, the response from OpenAI (gpt-4o) clearly stands out as the better answer, primarily because it is the only one that successfully answers the prompt.\n",
      "\n",
      "Here's why the OpenAI response is superior:\n",
      "\n",
      "1. **Comprehensiveness**: The response from OpenAI effectively explains why Paris is called the \"City of Lights\" through two main aspects: its historical significance as a center of Enlightenment thought and its pioneering role in public street lighting. This dual explanation covers both the metaphorical and literal interpretations of the nickname.\n",
      "\n",
      "2. **Detail and Clarity**: Each point is elaborated upon with sufficient historical context and detail. It explains the intellectual achievements during the Age of Enlightenment and provides a timeline of the development of street lighting in Paris, which helps readers understand the origins and significance of the nickname in a clear manner.\n",
      "\n",
      "3. **Structured and Coherent**: The response is well-organized with two clearly defined sections, which makes it easy to follow and understand. It uses headings to separate the different aspects, enhancing readability and clarity.\n",
      "\n",
      "In contrast, the response from meta (Llama-2) does not provide any information relevant to the prompt due to an error. As a result, it offers no value in terms of explaining why Paris is called the \"City of Lights.\"\n",
      "\n",
      "Therefore, by default and by merit of content and clarity, the OpenAI response is the better answer.\n"
     ]
    }
   ],
   "source": [
    "print(\"Response from\", model_1, \":\\n\", out1)\n",
    "print(\"\\nResponse from\", model_2, \":\\n\", out2)\n",
    "print(\"\\nEvaluation by\", evaluation_model_, \":\\n\", evaluation)"
   ]
  }
 ],
 "metadata": {
  "kernelspec": {
   "display_name": "compare-gen-ai-outputs-oJZNtxB8-py3.10",
   "language": "python",
   "name": "python3"
  },
  "language_info": {
   "codemirror_mode": {
    "name": "ipython",
    "version": 3
   },
   "file_extension": ".py",
   "mimetype": "text/x-python",
   "name": "python",
   "nbconvert_exporter": "python",
   "pygments_lexer": "ipython3",
   "version": "3.10.12"
  }
 },
 "nbformat": 4,
 "nbformat_minor": 2
}
