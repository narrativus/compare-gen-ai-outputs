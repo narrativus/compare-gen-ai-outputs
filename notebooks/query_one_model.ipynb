{
 "cells": [
  {
   "cell_type": "code",
   "execution_count": 1,
   "metadata": {},
   "outputs": [],
   "source": [
    "%load_ext autoreload\n",
    "%autoreload 2"
   ]
  },
  {
   "cell_type": "code",
   "execution_count": 2,
   "metadata": {},
   "outputs": [],
   "source": [
    "import os\n",
    "import sys\n",
    "import json\n",
    "import logging\n",
    "from dotenv import load_dotenv\n",
    "import openai\n",
    "\n",
    "# Load environment variables from .env\n",
    "load_dotenv()\n",
    "\n",
    "# Set up logging for chain-of-thought outputs\n",
    "logging.basicConfig(\n",
    "    filename='../logs/reasoning.log',  # Adjust path if running from notebook root\n",
    "    level=logging.INFO,\n",
    "    format='%(asctime)s - %(levelname)s - %(message)s'\n",
    ")"
   ]
  },
  {
   "cell_type": "code",
   "execution_count": null,
   "metadata": {},
   "outputs": [],
   "source": [
    "project_root = os.path.abspath(os.path.join(os.getcwd(), \"..\"))\n",
    "if project_root not in sys.path:\n",
    "    sys.path.insert(0, project_root)\n",
    "\n",
    "from src.model_interface import query_openai"
   ]
  },
  {
   "cell_type": "code",
   "execution_count": 5,
   "metadata": {},
   "outputs": [],
   "source": [
    "#print(\"OPENAI_API_KEY:\", os.getenv(\"OPENAI_API_KEY\")) # Yes, it works"
   ]
  },
  {
   "cell_type": "code",
   "execution_count": 6,
   "metadata": {},
   "outputs": [
    {
     "name": "stdout",
     "output_type": "stream",
     "text": [
      "Available models: {'openai': {'models': ['gpt-4o', 'gpt-3.5-turbo']}, 'gemini': {'models': []}, 'llama': {'models': []}, 'claude': {'models': []}, 'deepseek': {'models': []}}\n"
     ]
    }
   ],
   "source": [
    "config_path = '../config/models_config.yaml'\n",
    "try:\n",
    "    import yaml\n",
    "    with open(config_path, 'r') as file:\n",
    "        model_catalog = yaml.safe_load(file)\n",
    "except Exception as e:\n",
    "    # Fallback: define a default catalog if config file is not available\n",
    "    model_catalog = {\n",
    "        \"openai\": [\"gpt-4o\", \"gpt-3.5-turbo\"],\n",
    "        \"gemini\": [],\n",
    "        \"llama\": [],\n",
    "        \"claude\": [],\n",
    "        \"deepseek\": []\n",
    "    }\n",
    "print(\"Available models:\", model_catalog)"
   ]
  },
  {
   "cell_type": "code",
   "execution_count": 7,
   "metadata": {},
   "outputs": [
    {
     "name": "stdout",
     "output_type": "stream",
     "text": [
      "Model Output:\n",
      " Paris is often referred to as the \"City of Lights\" (La Ville Lumière) for several reasons, both historical and cultural.\n",
      "\n",
      "1. **Enlightenment Era**: The nickname is partially rooted in Paris's central role during the Age of Enlightenment in the 18th century. During this period, Paris became a hub for intellectuals, philosophers, and artists who pushed forward ideas about reason, knowledge, and education. The city was an epicenter for enlightening ideas, thus earning its association with \"light\" in terms of intellect and education.\n",
      "\n",
      "2. **Early Adoption of Street Lighting**: Paris was one of the first major cities in Europe to implement street lighting. Starting in the 17th century under Louis XIV, Paris began installing street lights to increase safety and improve nighttime visibility. By the 19th century, the implementation of gas lighting throughout the streets and the transformation into a well-lit cityscape further solidified this nickname.\n",
      "\n",
      "3. **Iconic Illuminations**: Today, Paris maintains its luminous reputation with its iconic landmarks that are beautifully illuminated at night. Structures such as the Eiffel Tower, the Champs-Élysées, and the bridges over the Seine River are all highlighted with lights, contributing to the city's dazzling nightscape.\n",
      "\n",
      "4. **Symbolic of its Charisma**: Beyond its historical and literal illumination, the \"City of Lights\" is also symbolic of Paris's enduring allure as a center of culture, fashion, and romance, attracting millions of visitors who marvel at its beauty both day and night.\n",
      "\n",
      "These elements combined help explain why Paris is affectionately known as the \"City of Lights,\" a term that encapsulates both its historical influence and its ongoing charm.\n"
     ]
    }
   ],
   "source": [
    "prompt = \"Explain why Paris is called the city of lights.\"\n",
    "output = query_openai(prompt, model=\"gpt-4o\")\n",
    "print(\"Model Output:\\n\", output)\n"
   ]
  }
 ],
 "metadata": {
  "kernelspec": {
   "display_name": "compare-gen-ai-outputs-oJZNtxB8-py3.10",
   "language": "python",
   "name": "python3"
  },
  "language_info": {
   "codemirror_mode": {
    "name": "ipython",
    "version": 3
   },
   "file_extension": ".py",
   "mimetype": "text/x-python",
   "name": "python",
   "nbconvert_exporter": "python",
   "pygments_lexer": "ipython3",
   "version": "3.10.12"
  }
 },
 "nbformat": 4,
 "nbformat_minor": 2
}
