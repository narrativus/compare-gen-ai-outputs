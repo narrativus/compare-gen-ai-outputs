{
 "cells": [
  {
   "cell_type": "code",
   "execution_count": 1,
   "metadata": {},
   "outputs": [],
   "source": [
    "# query_one_model.ipynb"
   ]
  },
  {
   "cell_type": "code",
   "execution_count": 2,
   "metadata": {},
   "outputs": [],
   "source": [
    "%load_ext autoreload\n",
    "%autoreload 2"
   ]
  },
  {
   "cell_type": "code",
   "execution_count": 3,
   "metadata": {},
   "outputs": [],
   "source": [
    "import os\n",
    "import sys\n",
    "import json\n",
    "import logging\n",
    "import yaml\n",
    "from dotenv import load_dotenv\n",
    "import openai\n",
    "\n",
    "# Load environment variables from .env\n",
    "load_dotenv()\n",
    "\n",
    "# Set up logging for chain-of-thought outputs\n",
    "logging.basicConfig(\n",
    "    filename='../logs/reasoning.log',  # Adjust path if running from notebook root\n",
    "    level=logging.INFO,\n",
    "    format='%(asctime)s - %(levelname)s - %(message)s'\n",
    ")"
   ]
  },
  {
   "cell_type": "code",
   "execution_count": 4,
   "metadata": {},
   "outputs": [],
   "source": [
    "project_root = os.path.abspath(os.path.join(os.getcwd(), \"..\"))\n",
    "if project_root not in sys.path:\n",
    "    sys.path.insert(0, project_root)\n",
    "\n",
    "#from src.model_interface import query_openai\n",
    "from src.model_interface import query_model"
   ]
  },
  {
   "cell_type": "code",
   "execution_count": 5,
   "metadata": {},
   "outputs": [],
   "source": [
    "#print(\"OPENAI_API_KEY:\", os.getenv(\"OPENAI_API_KEY\")) # Yes, it works"
   ]
  },
  {
   "cell_type": "code",
   "execution_count": 6,
   "metadata": {},
   "outputs": [
    {
     "name": "stdout",
     "output_type": "stream",
     "text": [
      "Available models: {'openai': {'models': ['gpt-4o', 'gpt-3.5-turbo']}, 'meta': {'models': ['meta-default', 'meta-v2']}, 'gemini': {'models': []}, 'mistral': {'models': []}, 'claude': {'models': []}, 'deepseek': {'models': []}}\n"
     ]
    }
   ],
   "source": [
    "config_path = '../config/models_config.yaml'\n",
    "try:\n",
    "    with open(config_path, 'r') as file:\n",
    "        model_catalog = yaml.safe_load(file)\n",
    "except Exception as e:\n",
    "    model_catalog = {\n",
    "        \"openai\": [\"gpt-4o\", \"gpt-3.5-turbo\"],\n",
    "        \"meta\": [\"meta-default\", \"meta-v2\"],\n",
    "        \"gemini\": [],\n",
    "        \"mistral\": [],\n",
    "        \"claude\": [],\n",
    "        \"deepseek\": []\n",
    "    }\n",
    "print(\"Available models:\", model_catalog)"
   ]
  },
  {
   "cell_type": "code",
   "execution_count": 7,
   "metadata": {},
   "outputs": [],
   "source": [
    "prompt = \"Explain why Paris is called the city of lights.\""
   ]
  },
  {
   "cell_type": "code",
   "execution_count": 10,
   "metadata": {},
   "outputs": [
    {
     "name": "stdout",
     "output_type": "stream",
     "text": [
      "Model Output:\n",
      " Paris is often referred to as \"The City of Lights\" (La Ville Lumière in French) for a couple of reasons, both historical and cultural.\n",
      "\n",
      "1. **Enlightenment:** During the Age of Enlightenment in the 18th century, Paris became a center of education, philosophy, and learning. It was a hub for intellectuals and philosophers who brought new ideas to light, emphasizing reason, science, and progress. This philosophical movement was metaphorically seen as bringing \"light\" to the world, with Paris at its heart.\n",
      "\n",
      "2. **Pioneering Street Lighting:** Paris was one of the first cities in Europe to adopt street lighting on a grand scale. In the 17th century, under King Louis XIV and his Lieutenant General of Police, Gabriel Nicolas de La Reynie, thousands of street lamps were installed to combat crime and make the streets safer at night. By the 19th century, Paris extensively used gas lamps, further enhancing its reputation as a well-lit city. This innovation in public lighting led to its nickname, highlighting its literal and metaphorical illumination.\n",
      "\n",
      "Together, these aspects cemented Paris's reputation as a beacon of culture, progress, and enlightenment, giving it the enduring nickname of \"The City of Lights.\"\n"
     ]
    }
   ],
   "source": [
    "output = query_model(prompt, model=\"gpt-4o\")\n",
    "print(\"Model Output:\\n\", output)"
   ]
  },
  {
   "cell_type": "code",
   "execution_count": 9,
   "metadata": {},
   "outputs": [
    {
     "name": "stdout",
     "output_type": "stream",
     "text": [
      "Meta Model Response:\n",
      " Error: 404 Client Error: Not Found for url: https://api-inference.huggingface.co/models/meta-default\n"
     ]
    }
   ],
   "source": [
    "# Query Meta's model\n",
    "meta_response = query_model(prompt, provider=\"meta\", model=\"meta-default\")\n",
    "print(\"Meta Model Response:\\n\", meta_response)"
   ]
  },
  {
   "cell_type": "code",
   "execution_count": null,
   "metadata": {},
   "outputs": [],
   "source": [
    "# Query using Mistral\n",
    "mistral_output = query_model(prompt, provider=\"mistral\", model=\"mistral-default\")\n",
    "print(\"Mistral Output:\\n\", mistral_output)\n"
   ]
  },
  {
   "cell_type": "code",
   "execution_count": null,
   "metadata": {},
   "outputs": [],
   "source": [
    "# Query using Gemini\n",
    "gemini_output = query_model(prompt, provider=\"gemini\", model=\"gemini-default\")\n",
    "print(\"Gemini Output:\\n\", gemini_output)"
   ]
  }
 ],
 "metadata": {
  "kernelspec": {
   "display_name": "compare-gen-ai-outputs-oJZNtxB8-py3.10",
   "language": "python",
   "name": "python3"
  },
  "language_info": {
   "codemirror_mode": {
    "name": "ipython",
    "version": 3
   },
   "file_extension": ".py",
   "mimetype": "text/x-python",
   "name": "python",
   "nbconvert_exporter": "python",
   "pygments_lexer": "ipython3",
   "version": "3.10.12"
  }
 },
 "nbformat": 4,
 "nbformat_minor": 2
}
